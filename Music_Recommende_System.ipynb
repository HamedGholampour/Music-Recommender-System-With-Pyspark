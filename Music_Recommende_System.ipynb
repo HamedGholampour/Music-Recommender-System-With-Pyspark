{
  "nbformat": 4,
  "nbformat_minor": 0,
  "metadata": {
    "colab": {
      "name": "Music_Recs.ipynb",
      "provenance": [],
      "include_colab_link": true
    },
    "kernelspec": {
      "display_name": "Python 3",
      "name": "python3"
    }
  },
  "cells": [
    {
      "cell_type": "markdown",
      "metadata": {
        "id": "view-in-github",
        "colab_type": "text"
      },
      "source": [
        "<a href=\"https://colab.research.google.com/github/HamedGholampour/Music-Recommender-System-With-Pyspark/blob/main/Music_Recommende_System.ipynb\" target=\"_parent\"><img src=\"https://colab.research.google.com/assets/colab-badge.svg\" alt=\"Open In Colab\"/></a>"
      ]
    },
    {
      "cell_type": "markdown",
      "metadata": {
        "id": "uixRc0XtrHuj"
      },
      "source": [
        "# **WELCOME TO THIS NOTEBOOK**"
      ]
    },
    {
      "cell_type": "code",
      "source": [
        "from google.colab import drive\n",
        "drive.mount('/content/drive')"
      ],
      "metadata": {
        "colab": {
          "base_uri": "https://localhost:8080/"
        },
        "id": "h5JHtaRlpGiE",
        "outputId": "963569f5-1d73-4131-dece-eae017d4eadf"
      },
      "execution_count": 11,
      "outputs": [
        {
          "output_type": "stream",
          "name": "stdout",
          "text": [
            "Drive already mounted at /content/drive; to attempt to forcibly remount, call drive.mount(\"/content/drive\", force_remount=True).\n"
          ]
        }
      ]
    },
    {
      "cell_type": "markdown",
      "metadata": {
        "id": "hMZ64UxxrMvL"
      },
      "source": [
        "Let's install pyspark"
      ]
    },
    {
      "cell_type": "code",
      "metadata": {
        "id": "Dal3Np2Imn8u",
        "colab": {
          "base_uri": "https://localhost:8080/"
        },
        "outputId": "d15b56b6-a2bf-4008-8add-b9afd468b909"
      },
      "source": [
        "!pip install pyspark"
      ],
      "execution_count": 12,
      "outputs": [
        {
          "output_type": "stream",
          "name": "stdout",
          "text": [
            "Looking in indexes: https://pypi.org/simple, https://us-python.pkg.dev/colab-wheels/public/simple/\n",
            "Requirement already satisfied: pyspark in /usr/local/lib/python3.10/dist-packages (3.4.0)\n",
            "Requirement already satisfied: py4j==0.10.9.7 in /usr/local/lib/python3.10/dist-packages (from pyspark) (0.10.9.7)\n"
          ]
        }
      ]
    },
    {
      "cell_type": "markdown",
      "metadata": {
        "id": "eK9D-CNgru_s"
      },
      "source": [
        "Importing the modules"
      ]
    },
    {
      "cell_type": "code",
      "metadata": {
        "id": "Z_cmzia9nA1W"
      },
      "source": [
        "from pyspark.sql import SparkSession\n",
        "from pyspark.sql.functions import count, desc , col, max\n",
        "from pyspark.ml.feature import  StringIndexer\n",
        "from pyspark.ml import Pipeline\n",
        "from pyspark.ml.recommendation import ALS\n",
        "from pyspark.ml.tuning import TrainValidationSplit, ParamGridBuilder"
      ],
      "execution_count": 13,
      "outputs": []
    },
    {
      "cell_type": "markdown",
      "metadata": {
        "id": "pjM5P6b0rVpH"
      },
      "source": [
        "Creating the spark session\n"
      ]
    },
    {
      "cell_type": "code",
      "metadata": {
        "id": "gvSzI0zMn4Hk"
      },
      "source": [
        "spark = SparkSession.builder.appName(\"lastfm\").getOrCreate()"
      ],
      "execution_count": 14,
      "outputs": []
    },
    {
      "cell_type": "markdown",
      "metadata": {
        "id": "KnyYdMVmnkp5"
      },
      "source": [
        "# Loading the dataset"
      ]
    },
    {
      "cell_type": "code",
      "metadata": {
        "id": "PywJeVgDngVd",
        "colab": {
          "base_uri": "https://localhost:8080/"
        },
        "outputId": "c05123d9-fa17-493c-cd59-47015e081251"
      },
      "source": [
        "file_path = '/content/drive/MyDrive/Dataset/listenings.csv'\n",
        "# file_path = '/content/drive/MyDrive/dataset/dataset/dataset/listenings.csv'\n",
        "df_listenings = spark.read.format('csv').option('header',True).option('inferSchema',True).load(file_path) #data frame, header will infer column types from csv\n",
        "df_listenings.show()"
      ],
      "execution_count": 15,
      "outputs": [
        {
          "output_type": "stream",
          "name": "stdout",
          "text": [
            "+-----------+-------------+--------------------+---------------+--------------------+\n",
            "|    user_id|         date|               track|         artist|               album|\n",
            "+-----------+-------------+--------------------+---------------+--------------------+\n",
            "|000Silenced|1299680100000|           Price Tag|       Jessie J|         Who You Are|\n",
            "|000Silenced|1299679920000|Price Tag (Acoust...|       Jessie J|           Price Tag|\n",
            "|000Silenced|1299679440000|Be Mine! (Ballad ...|          Robyn|            Be Mine!|\n",
            "|000Silenced|1299679200000|            Acapella|          Kelis|            Acapella|\n",
            "|000Silenced|1299675660000|   I'm Not Invisible|      The Tease|   I'm Not Invisible|\n",
            "|000Silenced|1297511400000|Bounce (Feat NORE...|       MSTRKRFT|         Fist of God|\n",
            "|000Silenced|1294498440000|Don't Stop The Mu...|        Rihanna|Addicted 2 Bassli...|\n",
            "|000Silenced|1292438340000|               ObZen|      Meshuggah|               ObZen|\n",
            "|000Silenced|1292437740000|   Yama's Messengers|         Gojira|The Way of All Flesh|\n",
            "|000Silenced|1292436360000|On the Brink of E...|   Napalm Death|Time Waits For No...|\n",
            "|000Silenced|1292436360000|On the Brink of E...|   Napalm Death|Time Waits For No...|\n",
            "|000Silenced|1292435940000|        In Deference|   Napalm Death|      Smear Campaign|\n",
            "|000Silenced|1292434920000|      Post(?)organic|    Decapitated|Organic Hallucinosis|\n",
            "|000Silenced|1292434560000|        Mind Feeders|   Dom & Roland| No Strings Attached|\n",
            "|000Silenced|1292434320000|Necrosadistic War...|Cannibal Corpse|                Kill|\n",
            "|000Silenced|1292365560000|     Dance All Night|   Dom & Roland|          Chronology|\n",
            "|000Silenced|1292365260000|          Late Night|   Dom & Roland|          Chronology|\n",
            "|000Silenced|1292365020000|          Freak Seen|   Dom & Roland|          Chronology|\n",
            "|000Silenced|1292364720000|Paradrenasite (Hi...|   Dom & Roland|          Chronology|\n",
            "|000Silenced|1292364300000|               Rhino|   Dom & Roland|          Chronology|\n",
            "+-----------+-------------+--------------------+---------------+--------------------+\n",
            "only showing top 20 rows\n",
            "\n"
          ]
        }
      ]
    },
    {
      "cell_type": "markdown",
      "metadata": {
        "id": "YUHBP0yjoJvc"
      },
      "source": [
        "\n",
        "# Cleaning tables"
      ]
    },
    {
      "cell_type": "code",
      "metadata": {
        "id": "N8luDo3HndTb",
        "colab": {
          "base_uri": "https://localhost:8080/"
        },
        "outputId": "56d0fb5b-ef72-43a7-c0c5-0ee593ac1ca7"
      },
      "source": [
        "df_listenings = df_listenings.drop('date')#drop date and time col from data frame\n",
        "df_listenings.show() #has information about each user, which track, artist and album they listened to"
      ],
      "execution_count": 17,
      "outputs": [
        {
          "output_type": "stream",
          "name": "stdout",
          "text": [
            "+-----------+--------------------+---------------+--------------------+\n",
            "|    user_id|               track|         artist|               album|\n",
            "+-----------+--------------------+---------------+--------------------+\n",
            "|000Silenced|           Price Tag|       Jessie J|         Who You Are|\n",
            "|000Silenced|Price Tag (Acoust...|       Jessie J|           Price Tag|\n",
            "|000Silenced|Be Mine! (Ballad ...|          Robyn|            Be Mine!|\n",
            "|000Silenced|            Acapella|          Kelis|            Acapella|\n",
            "|000Silenced|   I'm Not Invisible|      The Tease|   I'm Not Invisible|\n",
            "|000Silenced|Bounce (Feat NORE...|       MSTRKRFT|         Fist of God|\n",
            "|000Silenced|Don't Stop The Mu...|        Rihanna|Addicted 2 Bassli...|\n",
            "|000Silenced|               ObZen|      Meshuggah|               ObZen|\n",
            "|000Silenced|   Yama's Messengers|         Gojira|The Way of All Flesh|\n",
            "|000Silenced|On the Brink of E...|   Napalm Death|Time Waits For No...|\n",
            "|000Silenced|On the Brink of E...|   Napalm Death|Time Waits For No...|\n",
            "|000Silenced|        In Deference|   Napalm Death|      Smear Campaign|\n",
            "|000Silenced|      Post(?)organic|    Decapitated|Organic Hallucinosis|\n",
            "|000Silenced|        Mind Feeders|   Dom & Roland| No Strings Attached|\n",
            "|000Silenced|Necrosadistic War...|Cannibal Corpse|                Kill|\n",
            "|000Silenced|     Dance All Night|   Dom & Roland|          Chronology|\n",
            "|000Silenced|          Late Night|   Dom & Roland|          Chronology|\n",
            "|000Silenced|          Freak Seen|   Dom & Roland|          Chronology|\n",
            "|000Silenced|Paradrenasite (Hi...|   Dom & Roland|          Chronology|\n",
            "|000Silenced|               Rhino|   Dom & Roland|          Chronology|\n",
            "+-----------+--------------------+---------------+--------------------+\n",
            "only showing top 20 rows\n",
            "\n"
          ]
        }
      ]
    },
    {
      "cell_type": "code",
      "metadata": {
        "id": "5rDadwmpowII",
        "colab": {
          "base_uri": "https://localhost:8080/"
        },
        "outputId": "5e138a36-c079-4ec9-a462-169ceb11886a"
      },
      "source": [
        "df_listenings = df_listenings.na.drop() # removes null values in the row\n",
        "df_listenings.show()"
      ],
      "execution_count": 18,
      "outputs": [
        {
          "output_type": "stream",
          "name": "stdout",
          "text": [
            "+-----------+--------------------+---------------+--------------------+\n",
            "|    user_id|               track|         artist|               album|\n",
            "+-----------+--------------------+---------------+--------------------+\n",
            "|000Silenced|           Price Tag|       Jessie J|         Who You Are|\n",
            "|000Silenced|Price Tag (Acoust...|       Jessie J|           Price Tag|\n",
            "|000Silenced|Be Mine! (Ballad ...|          Robyn|            Be Mine!|\n",
            "|000Silenced|            Acapella|          Kelis|            Acapella|\n",
            "|000Silenced|   I'm Not Invisible|      The Tease|   I'm Not Invisible|\n",
            "|000Silenced|Bounce (Feat NORE...|       MSTRKRFT|         Fist of God|\n",
            "|000Silenced|Don't Stop The Mu...|        Rihanna|Addicted 2 Bassli...|\n",
            "|000Silenced|               ObZen|      Meshuggah|               ObZen|\n",
            "|000Silenced|   Yama's Messengers|         Gojira|The Way of All Flesh|\n",
            "|000Silenced|On the Brink of E...|   Napalm Death|Time Waits For No...|\n",
            "|000Silenced|On the Brink of E...|   Napalm Death|Time Waits For No...|\n",
            "|000Silenced|        In Deference|   Napalm Death|      Smear Campaign|\n",
            "|000Silenced|      Post(?)organic|    Decapitated|Organic Hallucinosis|\n",
            "|000Silenced|        Mind Feeders|   Dom & Roland| No Strings Attached|\n",
            "|000Silenced|Necrosadistic War...|Cannibal Corpse|                Kill|\n",
            "|000Silenced|     Dance All Night|   Dom & Roland|          Chronology|\n",
            "|000Silenced|          Late Night|   Dom & Roland|          Chronology|\n",
            "|000Silenced|          Freak Seen|   Dom & Roland|          Chronology|\n",
            "|000Silenced|Paradrenasite (Hi...|   Dom & Roland|          Chronology|\n",
            "|000Silenced|               Rhino|   Dom & Roland|          Chronology|\n",
            "+-----------+--------------------+---------------+--------------------+\n",
            "only showing top 20 rows\n",
            "\n"
          ]
        }
      ]
    },
    {
      "cell_type": "code",
      "metadata": {
        "id": "UZr0ZxOVIYr9",
        "outputId": "5d85ebcf-601d-43fc-ff57-271019b28e92",
        "colab": {
          "base_uri": "https://localhost:8080/"
        }
      },
      "source": [
        "rows = df_listenings.count()\n",
        "cols = len(df_listenings.columns)\n",
        "print(rows,cols)"
      ],
      "execution_count": 19,
      "outputs": [
        {
          "output_type": "stream",
          "name": "stdout",
          "text": [
            "13758905 4\n"
          ]
        }
      ]
    },
    {
      "cell_type": "markdown",
      "metadata": {
        "id": "cyf1XITGpMWV"
      },
      "source": [
        "\n",
        "# Let's Perform some aggregation\n",
        "to see how many times each user has listened to specific track\n"
      ]
    },
    {
      "cell_type": "code",
      "metadata": {
        "id": "PeH7vYKEoyWa",
        "colab": {
          "base_uri": "https://localhost:8080/"
        },
        "outputId": "81004f20-25e9-4f11-ad62-5c32bac82072"
      },
      "source": [
        "#in order to make a model, we need to know how many times a user has listened to each song\n",
        "df_listenings_agg = df_listenings.select('user_id', 'track').groupby('user_id', 'track').agg(count('*').alias('count')).orderBy('user_id')\n",
        "df_listenings_agg.show()"
      ],
      "execution_count": 20,
      "outputs": [
        {
          "output_type": "stream",
          "name": "stdout",
          "text": [
            "+-------+--------------------+-----+\n",
            "|user_id|               track|count|\n",
            "+-------+--------------------+-----+\n",
            "| --Seph| White Winter Hymnal|    3|\n",
            "| --Seph|         The Funeral|    1|\n",
            "| --Seph|Hope There's Someone|    1|\n",
            "| --Seph|         The Painter|    1|\n",
            "| --Seph|          Nightmares|    1|\n",
            "| --Seph|            War Pigs|    1|\n",
            "| --Seph|                 F12|    1|\n",
            "| --Seph|                Team|    1|\n",
            "| --Seph|          Je te veux|    1|\n",
            "| --Seph|               Radio|    1|\n",
            "| --Seph|   All I Want Is You|    1|\n",
            "| --Seph|    Little by Little|    2|\n",
            "| --Seph|          Ode to Joy|    1|\n",
            "| --Seph|In the Hall of th...|    1|\n",
            "| --Seph|   Hey There Delilah|    1|\n",
            "| --Seph|   Let's Call It Off|    1|\n",
            "| --Seph|               Leloo|    1|\n",
            "| --Seph|             Pack Up|    1|\n",
            "| --Seph|           Introitus|    1|\n",
            "| --Seph|        The Leanover|    1|\n",
            "+-------+--------------------+-----+\n",
            "only showing top 20 rows\n",
            "\n"
          ]
        }
      ]
    },
    {
      "cell_type": "code",
      "metadata": {
        "id": "RhVz-SvapIyr",
        "outputId": "cb748a68-a264-4d5c-cc3d-c57822591b9b",
        "colab": {
          "base_uri": "https://localhost:8080/"
        }
      },
      "source": [
        "row = df_listenings_agg.count()\n",
        "col = len(df_listenings_agg.columns)\n",
        "print(row,col)"
      ],
      "execution_count": 22,
      "outputs": [
        {
          "output_type": "stream",
          "name": "stdout",
          "text": [
            "9930128 3\n"
          ]
        }
      ]
    },
    {
      "cell_type": "code",
      "source": [
        "#we want to decrement our row size, its almost 10 million, lets reduce it inorder to process our data much faster\n",
        "df_listenings_agg = df_listenings_agg.limit(20000)\n"
      ],
      "metadata": {
        "id": "GNJjYNL1NFL9"
      },
      "execution_count": 23,
      "outputs": []
    },
    {
      "cell_type": "markdown",
      "metadata": {
        "id": "vuebvg7UqzsO"
      },
      "source": [
        "# Let's convert the user id and track columns into unique integers\n",
        "\n",
        "\n"
      ]
    },
    {
      "cell_type": "code",
      "metadata": {
        "id": "F9RSpj3DN6aX",
        "colab": {
          "base_uri": "https://localhost:8080/"
        },
        "outputId": "c807fb7d-bcde-4cd7-b8c5-566252b87549"
      },
      "source": [
        "#We want to use StringIndexer to convert userID and track to unique, integer values\n",
        "#StringIndexer encodes a string column of labels to a column of label indices\n",
        "old_strindexer = [StringIndexer(inputCol = col, outputCol = col + '_index').fit(df_listenings_agg) for col in list(set(df_listenings_agg.columns)- set(['count']))]\n",
        "indexer = [curr_strindexer.setHandleInvalid(\"keep\") for curr_strindexer in old_strindexer]\n",
        "pipeline = Pipeline(stages = indexer)\n",
        "#the dataframe will be called data\n",
        "#Transformers convert one dataframe into another either by updating the current values of a particular column (like converting categorical columns to numeric) or mapping it to some other values by using a defined logic.\n",
        "#An Estimator implements the fit() method on a dataframe and produces a model.\n",
        "data = pipeline.fit(df_listenings_agg).transform(df_listenings_agg)\n",
        "data.show()"
      ],
      "execution_count": 24,
      "outputs": [
        {
          "output_type": "stream",
          "name": "stdout",
          "text": [
            "+-------+--------------------+-----+-------------+-----------+\n",
            "|user_id|               track|count|user_id_index|track_index|\n",
            "+-------+--------------------+-----+-------------+-----------+\n",
            "| --Seph|          Nightmares|    1|         69.0|    10600.0|\n",
            "| --Seph|Virus (Luke Fair ...|    1|         69.0|    15893.0|\n",
            "| --Seph|Airplanes [feat H...|    1|         69.0|      521.0|\n",
            "| --Seph|Belina (Original ...|    1|         69.0|     3280.0|\n",
            "| --Seph|              Monday|    1|         69.0|      334.0|\n",
            "| --Seph|Hungarian Dance No 5|    1|         69.0|     7555.0|\n",
            "| --Seph|       Life On Mars?|    1|         69.0|     1164.0|\n",
            "| --Seph|  California Waiting|    1|         69.0|      195.0|\n",
            "| --Seph|       Phantom Pt II|    1|         69.0|     1378.0|\n",
            "| --Seph|   Summa for Strings|    1|         69.0|    13737.0|\n",
            "| --Seph|      Hour for magic|    2|         69.0|     7492.0|\n",
            "| --Seph|Hungarian Rhapsod...|    1|         69.0|     7556.0|\n",
            "| --Seph|     The Way We Were|    1|         69.0|    14958.0|\n",
            "| --Seph| Air on the G String|    1|         69.0|     2456.0|\n",
            "| --Seph|Vestido Estampado...|    1|         69.0|    15847.0|\n",
            "| --Seph|        Window Blues|    1|         69.0|     1841.0|\n",
            "| --Seph| White Winter Hymnal|    3|         69.0|       59.0|\n",
            "| --Seph|         The Embrace|    1|         69.0|    14386.0|\n",
            "| --Seph|          Paris 2004|    7|         69.0|    11311.0|\n",
            "| --Seph|Chelsea Hotel - L...|    1|         69.0|     4183.0|\n",
            "+-------+--------------------+-----+-------------+-----------+\n",
            "only showing top 20 rows\n",
            "\n"
          ]
        }
      ]
    },
    {
      "cell_type": "code",
      "metadata": {
        "id": "efL-hiR-q-AO"
      },
      "source": [
        "data = data.select('user_id_index', 'track_index', 'count').orderBy('user_id_index')\n",
        "\n"
      ],
      "execution_count": 25,
      "outputs": []
    },
    {
      "cell_type": "code",
      "metadata": {
        "id": "OfKtj2ojrKae",
        "colab": {
          "base_uri": "https://localhost:8080/"
        },
        "outputId": "471b7272-e2d0-4534-97c4-62201d2a7f32"
      },
      "source": [
        "data.show()"
      ],
      "execution_count": 26,
      "outputs": [
        {
          "output_type": "stream",
          "name": "stdout",
          "text": [
            "+-------------+-----------+-----+\n",
            "|user_id_index|track_index|count|\n",
            "+-------------+-----------+-----+\n",
            "|          0.0|    10628.0|    1|\n",
            "|          0.0|     3338.0|    1|\n",
            "|          0.0|    12168.0|    1|\n",
            "|          0.0|    11626.0|    2|\n",
            "|          0.0|    10094.0|    4|\n",
            "|          0.0|      427.0|    1|\n",
            "|          0.0|    16878.0|    1|\n",
            "|          0.0|    11722.0|    1|\n",
            "|          0.0|    15074.0|    1|\n",
            "|          0.0|     1359.0|    1|\n",
            "|          0.0|     5874.0|    1|\n",
            "|          0.0|    11184.0|    1|\n",
            "|          0.0|     2372.0|    2|\n",
            "|          0.0|    14316.0|    1|\n",
            "|          0.0|     5346.0|    1|\n",
            "|          0.0|    11194.0|    1|\n",
            "|          0.0|     2241.0|    1|\n",
            "|          0.0|     2864.0|    1|\n",
            "|          0.0|     2663.0|    4|\n",
            "|          0.0|     6064.0|    1|\n",
            "+-------------+-----------+-----+\n",
            "only showing top 20 rows\n",
            "\n"
          ]
        }
      ]
    },
    {
      "cell_type": "markdown",
      "metadata": {
        "id": "IEwviAxXsHwN"
      },
      "source": [
        "# Train and Test data"
      ]
    },
    {
      "cell_type": "code",
      "metadata": {
        "id": "DRgu2p-PsYUw"
      },
      "source": [
        "(training, test) = data.randomSplit([0.5,0.5])"
      ],
      "execution_count": 27,
      "outputs": []
    },
    {
      "cell_type": "markdown",
      "metadata": {
        "id": "M46wV6Gusdi5"
      },
      "source": [
        "# Let's Create our Model"
      ]
    },
    {
      "cell_type": "code",
      "metadata": {
        "id": "bwPk25M3sfRu",
        "colab": {
          "base_uri": "https://localhost:8080/"
        },
        "outputId": "e58da548-4166-4364-d3aa-ec12975dd780"
      },
      "source": [
        "\n",
        "\n",
        "USERID = \"user_id_index\"\n",
        "TRACK = \"track_index\"\n",
        "COUNT = \"count\"\n",
        "\n",
        "als = ALS(maxIter = 5, regParam = 0.01, userCol = USERID, itemCol = TRACK, ratingCol = COUNT)\n",
        "# Alternating Least Squares algorithm\n",
        "print(als)\n",
        "model = als.fit(training)\n",
        "\n",
        "predictions = model.transform(test)"
      ],
      "execution_count": 28,
      "outputs": [
        {
          "output_type": "stream",
          "name": "stdout",
          "text": [
            "ALS_17a46ff50789\n"
          ]
        }
      ]
    },
    {
      "cell_type": "markdown",
      "metadata": {
        "id": "lqBkLowzsoj8"
      },
      "source": [
        "\n",
        "\n",
        "> Indented block\n",
        "\n",
        "\n",
        "# Generate top 10 Track recommendations for each user"
      ]
    },
    {
      "cell_type": "code",
      "metadata": {
        "id": "00mtv7XUsZGg"
      },
      "source": [
        "recs = model.recommendForAllUsers(10)"
      ],
      "execution_count": 29,
      "outputs": []
    },
    {
      "cell_type": "code",
      "metadata": {
        "id": "_EQnSUh3ncar",
        "colab": {
          "base_uri": "https://localhost:8080/"
        },
        "outputId": "d7c51ebe-0dbd-4ad1-8b61-d32a911e4fe9"
      },
      "source": [
        "recs.show()"
      ],
      "execution_count": 30,
      "outputs": [
        {
          "output_type": "stream",
          "name": "stdout",
          "text": [
            "+-------------+--------------------+\n",
            "|user_id_index|     recommendations|\n",
            "+-------------+--------------------+\n",
            "|            0|[{225, 20.841595}...|\n",
            "|            1|[{11940, 42.26875...|\n",
            "|            2|[{11940, 29.74676...|\n",
            "|            3|[{15427, 8.010557...|\n",
            "|            4|[{308, 5.829543},...|\n",
            "|            5|[{11940, 52.52713...|\n",
            "|            6|[{1694, 9.345171}...|\n",
            "|            7|[{16908, 18.20093...|\n",
            "|            8|[{11940, 36.43995...|\n",
            "|            9|[{14825, 7.183723...|\n",
            "|           10|[{180, 11.222249}...|\n",
            "|           11|[{1694, 8.721532}...|\n",
            "|           12|[{308, 7.862448},...|\n",
            "|           13|[{14825, 12.68514...|\n",
            "|           14|[{16908, 12.79042...|\n",
            "|           15|[{180, 10.053168}...|\n",
            "|           16|[{180, 12.731135}...|\n",
            "|           17|[{5292, 8.430169}...|\n",
            "|           18|[{11940, 46.34702...|\n",
            "|           19|[{225, 18.270203}...|\n",
            "+-------------+--------------------+\n",
            "only showing top 20 rows\n",
            "\n"
          ]
        }
      ]
    },
    {
      "cell_type": "code",
      "metadata": {
        "id": "stUaAoKpTgqT",
        "colab": {
          "base_uri": "https://localhost:8080/"
        },
        "outputId": "2520eef5-5b2d-4a59-e3ef-ac4252d941f7"
      },
      "source": [
        "recs.take(1)"
      ],
      "execution_count": 31,
      "outputs": [
        {
          "output_type": "execute_result",
          "data": {
            "text/plain": [
              "[Row(user_id_index=0, recommendations=[Row(track_index=225, rating=20.841594696044922), Row(track_index=308, rating=19.851253509521484), Row(track_index=251, rating=18.264970779418945), Row(track_index=4461, rating=15.655689239501953), Row(track_index=524, rating=13.046407699584961), Row(track_index=180, rating=11.47872257232666), Row(track_index=16478, rating=10.437127113342285), Row(track_index=4961, rating=10.437127113342285), Row(track_index=4701, rating=10.437127113342285), Row(track_index=873, rating=10.437127113342285)])]"
            ]
          },
          "metadata": {},
          "execution_count": 31
        }
      ]
    }
  ]
}